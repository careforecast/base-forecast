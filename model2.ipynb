{
 "cells": [
  {
   "cell_type": "markdown",
   "metadata": {},
   "source": [
    "## Raw to csv preprocessing"
   ]
  },
  {
   "cell_type": "code",
   "execution_count": null,
   "metadata": {},
   "outputs": [],
   "source": [
    "from utility.preprocessing2 import clean_data\n",
    "DATA_SIZE=10000\n",
    "BASE_PATH=f'data/{DATA_SIZE}'\n",
    "clean_data(BASE_PATH)"
   ]
  },
  {
   "cell_type": "markdown",
   "metadata": {},
   "source": [
    "### Feature engineering "
   ]
  },
  {
   "cell_type": "code",
   "execution_count": null,
   "metadata": {},
   "outputs": [],
   "source": [
    "from utility.preprocessing2 import clean_data,lower_case, preprocessing, upsample\n",
    "from sklearn.model_selection import train_test_split\n",
    "import pandas as pd\n",
    "import os\n",
    "DATA_SIZE=100000\n",
    "df=pd.read_csv(f\"data/process/final_{DATA_SIZE}.csv\")"
   ]
  },
  {
   "cell_type": "code",
   "execution_count": null,
   "metadata": {},
   "outputs": [],
   "source": [
    "# check data len \n",
    "DAYS=30\n",
    "print(f\"total Admission : {len(df)}\")\n",
    "print(f\"admit within {DAYS} : {len(df[df['days']<=DAYS])} \")\n"
   ]
  },
  {
   "cell_type": "code",
   "execution_count": null,
   "metadata": {},
   "outputs": [],
   "source": [
    "all_feature=['PatientGender', 'PatientRace','Age',\n",
    "'PatientMaritalStatus', 'PatientLanguage',\n",
    "'PatientPopulationPercentageBelowPoverty', 'AdmissionID',\n",
    "'PrimaryDiagnosisCode', 'PrimaryDiagnosisDescription', 'Target', ]"
   ]
  },
  {
   "cell_type": "markdown",
   "metadata": {},
   "source": [
    "### process_df and train_df we can use for evaluation"
   ]
  },
  {
   "cell_type": "code",
   "execution_count": null,
   "metadata": {},
   "outputs": [],
   "source": [
    "#convert df in lower case\n",
    "df=lower_case(df)\n",
    "process_df=preprocessing(df,DAYS,all_feature) # whole dataset you will for evaluation\n",
    "train_df=upsample(process_df,10000) #upsample low class"
   ]
  },
  {
   "cell_type": "code",
   "execution_count": null,
   "metadata": {},
   "outputs": [],
   "source": [
    "train_df['Target'].value_counts()"
   ]
  },
  {
   "cell_type": "markdown",
   "metadata": {},
   "source": [
    "### Train model and save"
   ]
  },
  {
   "cell_type": "code",
   "execution_count": null,
   "metadata": {},
   "outputs": [],
   "source": [
    "from model.model2 import train_model\n",
    "model,test,train = train_model(train_df)"
   ]
  },
  {
   "cell_type": "code",
   "execution_count": null,
   "metadata": {},
   "outputs": [],
   "source": []
  },
  {
   "cell_type": "markdown",
   "metadata": {},
   "source": [
    "### Evaluation "
   ]
  },
  {
   "cell_type": "code",
   "execution_count": null,
   "metadata": {},
   "outputs": [],
   "source": [
    "from testing.evaluation2 import evaluation_data\n",
    "# use train_df or process_df  set True to get csv for manual comparison \n",
    "df_test=evaluation_data(train_df.copy(),'save_model/model.pkl',True)"
   ]
  },
  {
   "cell_type": "code",
   "execution_count": null,
   "metadata": {},
   "outputs": [],
   "source": [
    "# df_test=evaluation_data(train_df,'save_model/model.pkl')\n",
    "print(f\"total={len(df_test)}\\n\")\n",
    "print(df_test.Target.value_counts())\n",
    "print(f\"\\n0 <-> 0 = {len(df_test[(df_test['Target']==0) & (df_test['y_pred']==0)])}\")\n",
    "print(f\"1 <-> 1 = {len(df_test[(df_test['Target']==1) & (df_test['y_pred']==1)])}\")\n",
    "print(f\"0 <-> 1 = {len(df_test[(df_test['Target']==0) & (df_test['y_pred']==1)])}\")\n",
    "print(f\"1 <-> 0 = {len(df_test[(df_test['Target']==1) & (df_test['y_pred']==0)])}\")"
   ]
  },
  {
   "cell_type": "markdown",
   "metadata": {},
   "source": [
    "### inferences "
   ]
  },
  {
   "cell_type": "code",
   "execution_count": null,
   "metadata": {},
   "outputs": [],
   "source": [
    "import pandas as pd\n",
    "data={'PatientGender':['male','female'],\n",
    "      'PatientRace':['white','white'],\n",
    "      'Age':[41,32],\n",
    "      'PatientMaritalStatus':['single','single'],\n",
    "      'PatientLanguage':['english','english'],\n",
    "      'PatientPopulationPercentageBelowPoverty':[11.53,12.3],\n",
    "      'AdmissionID':[2,1],\n",
    "      'PrimaryDiagnosisCode':['t70.3','t70.3'],\n",
    "      'PrimaryDiagnosisDescription':['Caisson disease [decompression sickness]','Caisson']\n",
    "     }\n",
    "test_df=pd.DataFrame(data)"
   ]
  },
  {
   "cell_type": "code",
   "execution_count": null,
   "metadata": {},
   "outputs": [],
   "source": []
  },
  {
   "cell_type": "code",
   "execution_count": null,
   "metadata": {},
   "outputs": [],
   "source": [
    "from testing.evaluation2 import infer\n",
    "infer(pd.DataFrame(test_df))"
   ]
  },
  {
   "cell_type": "code",
   "execution_count": null,
   "metadata": {},
   "outputs": [],
   "source": []
  }
 ],
 "metadata": {
  "kernelspec": {
   "display_name": "conda_pytorch_p36",
   "language": "python",
   "name": "conda_pytorch_p36"
  },
  "language_info": {
   "codemirror_mode": {
    "name": "ipython",
    "version": 3
   },
   "file_extension": ".py",
   "mimetype": "text/x-python",
   "name": "python",
   "nbconvert_exporter": "python",
   "pygments_lexer": "ipython3",
   "version": "3.6.13"
  }
 },
 "nbformat": 4,
 "nbformat_minor": 4
}
