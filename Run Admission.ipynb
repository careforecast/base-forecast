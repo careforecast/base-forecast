{
 "cells": [
  {
   "cell_type": "markdown",
   "metadata": {},
   "source": [
    "## Raw to csv preprocessing"
   ]
  },
  {
   "cell_type": "code",
   "execution_count": 1,
   "metadata": {},
   "outputs": [
    {
     "name": "stdout",
     "output_type": "stream",
     "text": [
      "process start..\n"
     ]
    },
    {
     "name": "stderr",
     "output_type": "stream",
     "text": [
      "  0%|          | 0/100 [00:00<?, ?it/s]"
     ]
    },
    {
     "name": "stdout",
     "output_type": "stream",
     "text": [
      "                                PatientID  AdmissionID  \\\n",
      "366  7A025E77-7832-4F53-B9A7-09A3F98AC17E            1   \n",
      "367  7A025E77-7832-4F53-B9A7-09A3F98AC17E            2   \n",
      "368  7A025E77-7832-4F53-B9A7-09A3F98AC17E            3   \n",
      "369  7A025E77-7832-4F53-B9A7-09A3F98AC17E            4   \n",
      "370  7A025E77-7832-4F53-B9A7-09A3F98AC17E            5   \n",
      "371  7A025E77-7832-4F53-B9A7-09A3F98AC17E            6   \n",
      "0    7A025E77-7832-4F53-B9A7-09A3F98AC17E            7   \n",
      "\n",
      "          AdmissionStartDate         AdmissionEndDate  \n",
      "366  1978-06-29 07:29:11.593  1978-07-10 04:05:51.787  \n",
      "367  1982-10-14 07:01:43.613  1982-10-21 16:44:00.310  \n",
      "368  1990-02-23 04:28:34.457  1990-03-13 15:55:29.837  \n",
      "369  1994-05-15 11:34:00.840  1994-05-19 23:04:04.877  \n",
      "370  2001-01-10 11:04:58.943  2001-01-27 00:54:18.730  \n",
      "371  2001-12-29 20:28:01.050  2002-01-18 18:16:04.423  \n",
      "0    2011-10-12 14:55:02.027  2011-10-22 01:16:07.557  \n",
      "['1978-06-29 07:29:11.593', '1982-10-14 07:01:43.613', '1990-02-23 04:28:34.457', '1994-05-15 11:34:00.840', '2001-01-10 11:04:58.943', '2001-12-29 20:28:01.050', '2011-10-12 14:55:02.027']\n",
      "['1982-10-14 07:01:43.613', '1990-02-23 04:28:34.457', '1994-05-15 11:34:00.840', '2001-01-10 11:04:58.943', '2001-12-29 20:28:01.050', '2011-10-12 14:55:02.027', '1978-06-29 07:29:11.593']\n",
      "                                PatientID  AdmissionID  \\\n",
      "366  7A025E77-7832-4F53-B9A7-09A3F98AC17E            1   \n",
      "367  7A025E77-7832-4F53-B9A7-09A3F98AC17E            2   \n",
      "368  7A025E77-7832-4F53-B9A7-09A3F98AC17E            3   \n",
      "369  7A025E77-7832-4F53-B9A7-09A3F98AC17E            4   \n",
      "370  7A025E77-7832-4F53-B9A7-09A3F98AC17E            5   \n",
      "371  7A025E77-7832-4F53-B9A7-09A3F98AC17E            6   \n",
      "0    7A025E77-7832-4F53-B9A7-09A3F98AC17E            7   \n",
      "\n",
      "          AdmissionStartDate         AdmissionEndDate                      new  \n",
      "366  1978-06-29 07:29:11.593  1978-07-10 04:05:51.787  1982-10-14 07:01:43.613  \n",
      "367  1982-10-14 07:01:43.613  1982-10-21 16:44:00.310  1990-02-23 04:28:34.457  \n",
      "368  1990-02-23 04:28:34.457  1990-03-13 15:55:29.837  1994-05-15 11:34:00.840  \n",
      "369  1994-05-15 11:34:00.840  1994-05-19 23:04:04.877  2001-01-10 11:04:58.943  \n",
      "370  2001-01-10 11:04:58.943  2001-01-27 00:54:18.730  2001-12-29 20:28:01.050  \n",
      "371  2001-12-29 20:28:01.050  2002-01-18 18:16:04.423  2011-10-12 14:55:02.027  \n",
      "0    2011-10-12 14:55:02.027  2011-10-22 01:16:07.557  1978-06-29 07:29:11.593  \n",
      "                                PatientID  AdmissionID  \\\n",
      "366  7A025E77-7832-4F53-B9A7-09A3F98AC17E            1   \n",
      "367  7A025E77-7832-4F53-B9A7-09A3F98AC17E            2   \n",
      "368  7A025E77-7832-4F53-B9A7-09A3F98AC17E            3   \n",
      "369  7A025E77-7832-4F53-B9A7-09A3F98AC17E            4   \n",
      "370  7A025E77-7832-4F53-B9A7-09A3F98AC17E            5   \n",
      "371  7A025E77-7832-4F53-B9A7-09A3F98AC17E            6   \n",
      "\n",
      "          AdmissionStartDate         AdmissionEndDate                      new  \n",
      "366  1978-06-29 07:29:11.593  1978-07-10 04:05:51.787  1982-10-14 07:01:43.613  \n",
      "367  1982-10-14 07:01:43.613  1982-10-21 16:44:00.310  1990-02-23 04:28:34.457  \n",
      "368  1990-02-23 04:28:34.457  1990-03-13 15:55:29.837  1994-05-15 11:34:00.840  \n",
      "369  1994-05-15 11:34:00.840  1994-05-19 23:04:04.877  2001-01-10 11:04:58.943  \n",
      "370  2001-01-10 11:04:58.943  2001-01-27 00:54:18.730  2001-12-29 20:28:01.050  \n",
      "371  2001-12-29 20:28:01.050  2002-01-18 18:16:04.423  2011-10-12 14:55:02.027  \n"
     ]
    },
    {
     "name": "stderr",
     "output_type": "stream",
     "text": [
      "\n"
     ]
    },
    {
     "ename": "SystemExit",
     "evalue": "",
     "output_type": "error",
     "traceback": [
      "An exception has occurred, use %tb to see the full traceback.\n",
      "\u001b[1;31mSystemExit\u001b[0m\n"
     ]
    },
    {
     "name": "stderr",
     "output_type": "stream",
     "text": [
      "C:\\Users\\pedne\\anaconda3\\lib\\site-packages\\IPython\\core\\interactiveshell.py:3449: UserWarning: To exit: use 'exit', 'quit', or Ctrl-D.\n",
      "  warn(\"To exit: use 'exit', 'quit', or Ctrl-D.\", stacklevel=1)\n"
     ]
    }
   ],
   "source": [
    "from utility.preprocessing2 import clean_data\n",
    "DATA_SIZE=100\n",
    "BASE_PATH=f'data/{DATA_SIZE}'\n",
    "clean_data(BASE_PATH)"
   ]
  },
  {
   "cell_type": "markdown",
   "metadata": {},
   "source": [
    "### Feature engineering "
   ]
  },
  {
   "cell_type": "code",
   "execution_count": 2,
   "metadata": {},
   "outputs": [],
   "source": [
    "from utility.preprocessing2 import clean_data,lower_case, preprocessing, upsample\n",
    "from sklearn.model_selection import train_test_split\n",
    "import pandas as pd\n",
    "import os\n",
    "DATA_SIZE=100\n",
    "df=pd.read_csv(f\"data/process/final_{DATA_SIZE}.csv\")"
   ]
  },
  {
   "cell_type": "code",
   "execution_count": 3,
   "metadata": {},
   "outputs": [
    {
     "name": "stdout",
     "output_type": "stream",
     "text": [
      "total Admission : 272\n",
      "admit within 30 : 3 \n"
     ]
    }
   ],
   "source": [
    "# check data len \n",
    "DAYS=30\n",
    "print(f\"total Admission : {len(df)}\")\n",
    "print(f\"admit within {DAYS} : {len(df[df['days']<=DAYS])} \")\n"
   ]
  },
  {
   "cell_type": "code",
   "execution_count": 4,
   "metadata": {},
   "outputs": [],
   "source": [
    "all_feature=['PatientGender', 'PatientRace','Age',\n",
    "'PatientMaritalStatus', 'PatientLanguage',\n",
    "'PatientPopulationPercentageBelowPoverty', 'AdmissionID',\n",
    "'PrimaryDiagnosisCode', 'PrimaryDiagnosisDescription', 'Target', ]"
   ]
  },
  {
   "cell_type": "markdown",
   "metadata": {},
   "source": [
    "### process_df and train_df we can use for evaluation"
   ]
  },
  {
   "cell_type": "code",
   "execution_count": 5,
   "metadata": {},
   "outputs": [
    {
     "name": "stdout",
     "output_type": "stream",
     "text": [
      "0    269\n",
      "1      3\n",
      "Name: Target, dtype: int64\n"
     ]
    }
   ],
   "source": [
    "#convert df in lower case\n",
    "df=lower_case(df)\n",
    "process_df=preprocessing(df,DAYS,all_feature) # whole dataset you will for evaluation\n",
    "train_df=upsample(process_df,300) #upsample low class"
   ]
  },
  {
   "cell_type": "code",
   "execution_count": 6,
   "metadata": {},
   "outputs": [
    {
     "data": {
      "text/plain": [
       "1    300\n",
       "0    269\n",
       "Name: Target, dtype: int64"
      ]
     },
     "execution_count": 6,
     "metadata": {},
     "output_type": "execute_result"
    }
   ],
   "source": [
    "train_df['Target'].value_counts()"
   ]
  },
  {
   "cell_type": "markdown",
   "metadata": {},
   "source": [
    "### Train model and save"
   ]
  },
  {
   "cell_type": "code",
   "execution_count": 9,
   "metadata": {},
   "outputs": [
    {
     "name": "stdout",
     "output_type": "stream",
     "text": [
      "Fitting 30 folds for each of 100 candidates, totalling 3000 fits\n",
      "Precision: 1.0,Recall: 1.0\n",
      "Model save..\n"
     ]
    }
   ],
   "source": [
    "from models.model2 import train_model\n",
    "model,test,train = train_model(train_df)"
   ]
  },
  {
   "cell_type": "code",
   "execution_count": null,
   "metadata": {},
   "outputs": [],
   "source": []
  },
  {
   "cell_type": "markdown",
   "metadata": {},
   "source": [
    "### Evaluation "
   ]
  },
  {
   "cell_type": "code",
   "execution_count": 10,
   "metadata": {},
   "outputs": [
    {
     "name": "stdout",
     "output_type": "stream",
     "text": [
      "Precision: 0.9966777408637874,Recall: 1.0\n"
     ]
    }
   ],
   "source": [
    "from testing.evaluation2 import evaluation_data\n",
    "# use train_df or process_df  set True to get csv for manual comparison \n",
    "df_test=evaluation_data(train_df.copy(),'save_model/model.pkl',True)"
   ]
  },
  {
   "cell_type": "code",
   "execution_count": 11,
   "metadata": {},
   "outputs": [
    {
     "name": "stdout",
     "output_type": "stream",
     "text": [
      "total=569\n",
      "\n",
      "1    300\n",
      "0    269\n",
      "Name: Target, dtype: int64\n",
      "\n",
      "0 <-> 0 = 268\n",
      "1 <-> 1 = 300\n",
      "0 <-> 1 = 1\n",
      "1 <-> 0 = 0\n"
     ]
    }
   ],
   "source": [
    "# df_test=evaluation_data(train_df,'save_model/model.pkl')\n",
    "print(f\"total={len(df_test)}\\n\")\n",
    "print(df_test.Target.value_counts())\n",
    "print(f\"\\n0 <-> 0 = {len(df_test[(df_test['Target']==0) & (df_test['y_pred']==0)])}\")\n",
    "print(f\"1 <-> 1 = {len(df_test[(df_test['Target']==1) & (df_test['y_pred']==1)])}\")\n",
    "print(f\"0 <-> 1 = {len(df_test[(df_test['Target']==0) & (df_test['y_pred']==1)])}\")\n",
    "print(f\"1 <-> 0 = {len(df_test[(df_test['Target']==1) & (df_test['y_pred']==0)])}\")"
   ]
  },
  {
   "cell_type": "markdown",
   "metadata": {},
   "source": [
    "### inferences "
   ]
  },
  {
   "cell_type": "code",
   "execution_count": 1,
   "metadata": {},
   "outputs": [],
   "source": [
    "import pandas as pd\n",
    "data={'PatientGender':['male','female'],\n",
    "      'PatientRace':['white','white'],\n",
    "      'Age':[41,32],\n",
    "      'PatientMaritalStatus':['single','single'],\n",
    "      'PatientLanguage':['english','english'],\n",
    "      'PatientPopulationPercentageBelowPoverty':[11.53,12.3],\n",
    "      'AdmissionID':[2,1],\n",
    "      'PrimaryDiagnosisCode':['t70.3','t70.3'],\n",
    "      'PrimaryDiagnosisDescription':['Caisson disease [decompression sickness]','Caisson']\n",
    "     }\n",
    "test_df=pd.DataFrame(data)"
   ]
  },
  {
   "cell_type": "code",
   "execution_count": null,
   "metadata": {},
   "outputs": [],
   "source": []
  },
  {
   "cell_type": "code",
   "execution_count": 2,
   "metadata": {},
   "outputs": [
    {
     "name": "stdout",
     "output_type": "stream",
     "text": [
      "[0 0]\n"
     ]
    },
    {
     "data": {
      "text/plain": [
       "['No Need To Admit', 'No Need To Admit']"
      ]
     },
     "execution_count": 2,
     "metadata": {},
     "output_type": "execute_result"
    }
   ],
   "source": [
    "from testing.evaluation2 import infer\n",
    "infer(pd.DataFrame(test_df))"
   ]
  },
  {
   "cell_type": "code",
   "execution_count": null,
   "metadata": {},
   "outputs": [],
   "source": []
  }
 ],
 "metadata": {
  "kernelspec": {
   "display_name": "Python 3",
   "language": "python",
   "name": "python3"
  },
  "language_info": {
   "codemirror_mode": {
    "name": "ipython",
    "version": 3
   },
   "file_extension": ".py",
   "mimetype": "text/x-python",
   "name": "python",
   "nbconvert_exporter": "python",
   "pygments_lexer": "ipython3",
   "version": "3.8.11"
  }
 },
 "nbformat": 4,
 "nbformat_minor": 4
}
