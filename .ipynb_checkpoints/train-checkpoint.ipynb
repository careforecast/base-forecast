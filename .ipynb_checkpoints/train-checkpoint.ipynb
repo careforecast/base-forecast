{
 "cells": [
  {
   "cell_type": "markdown",
   "id": "unusual-simon",
   "metadata": {},
   "source": [
    "## install prerequisite"
   ]
  },
  {
   "cell_type": "code",
   "execution_count": 1,
   "id": "affecting-observation",
   "metadata": {},
   "outputs": [
    {
     "name": "stdout",
     "output_type": "stream",
     "text": [
      "cpu\n"
     ]
    }
   ],
   "source": [
    "from preprocessing import processing,load_pickle,get_augmentaion,train_test_split\n",
    "from lstm_model import padding,train_model,load_model,infer,DiagnosisDataset"
   ]
  },
  {
   "cell_type": "code",
   "execution_count": 2,
   "id": "foster-singles",
   "metadata": {},
   "outputs": [],
   "source": [
    "DATA_SIZE=10000\n",
    "BASE_PATH=f'data/{DATA_SIZE}'\n",
    "FILE = f\"{BASE_PATH}/AdmissionsDiagnosesCorePopulatedTable.txt\""
   ]
  },
  {
   "cell_type": "markdown",
   "id": "victorian-encounter",
   "metadata": {},
   "source": [
    "## Run if you want to train your model with new data"
   ]
  },
  {
   "cell_type": "code",
   "execution_count": 52,
   "id": "twelve-sport",
   "metadata": {},
   "outputs": [],
   "source": [
    "# processing(FILE,DATA_SIZE)"
   ]
  },
  {
   "cell_type": "markdown",
   "id": "statistical-ghana",
   "metadata": {},
   "source": [
    "## Load data from pickle"
   ]
  },
  {
   "cell_type": "code",
   "execution_count": 53,
   "id": "selected-strength",
   "metadata": {},
   "outputs": [
    {
     "name": "stdout",
     "output_type": "stream",
     "text": [
      "Load data from pickle\n",
      "length=10000\n"
     ]
    }
   ],
   "source": [
    "data_int,int2token,token2int=load_pickle(DATA_SIZE)"
   ]
  },
  {
   "cell_type": "markdown",
   "id": "international-tenant",
   "metadata": {},
   "source": [
    "## if you need augmentaion"
   ]
  },
  {
   "cell_type": "code",
   "execution_count": 55,
   "id": "center-focus",
   "metadata": {},
   "outputs": [
    {
     "name": "stdout",
     "output_type": "stream",
     "text": [
      "Total=59050\n"
     ]
    }
   ],
   "source": [
    "data_aug=get_augmentaion(data_int)"
   ]
  },
  {
   "cell_type": "markdown",
   "id": "ambient-reward",
   "metadata": {},
   "source": [
    "## Train test split"
   ]
  },
  {
   "cell_type": "code",
   "execution_count": 56,
   "id": "heavy-ireland",
   "metadata": {},
   "outputs": [
    {
     "name": "stdout",
     "output_type": "stream",
     "text": [
      "train: 56168 ,val: 2952\n"
     ]
    }
   ],
   "source": [
    "train, val = train_test_split(data_aug,ratio=0.05,random_seed=10)\n",
    "print(f\"train: {len(train)} ,val: {len(val)}\")"
   ]
  },
  {
   "cell_type": "markdown",
   "id": "intended-diploma",
   "metadata": {},
   "source": [
    "# Train model"
   ]
  },
  {
   "cell_type": "code",
   "execution_count": 62,
   "id": "dental-contamination",
   "metadata": {},
   "outputs": [],
   "source": [
    "n_feature=16\n",
    "n_hidden=128 \n",
    "n_layer=1\n",
    "drop_prob=0.10 \n",
    "batch_size=32\n",
    "input_size=11\n",
    "num_epoch = 150\n",
    "pad_value=2625 \n",
    "\n",
    "save_path=f\"save_model/latest-b{batch_size}-e{num_epoch}_model.pth\"\n",
    "\n",
    "train_model(\n",
    "    n_feature=n_feature,\n",
    "    n_hidden=n_hidden,\n",
    "    n_layer=n_layer,\n",
    "    drop_prob=drop_prob,\n",
    "    batch_size=batch_size,\n",
    "    input_size=input_size,\n",
    "    num_epoch=num_epoch,\n",
    "    pad_value=pad_value,\n",
    "    train=train,\n",
    "    val=val,\n",
    "    save_path=save_path\n",
    ")"
   ]
  },
  {
   "cell_type": "code",
   "execution_count": null,
   "id": "expressed-anniversary",
   "metadata": {},
   "outputs": [],
   "source": []
  },
  {
   "cell_type": "markdown",
   "id": "brilliant-dollar",
   "metadata": {},
   "source": [
    "## Load model "
   ]
  },
  {
   "cell_type": "code",
   "execution_count": 3,
   "id": "welsh-dominican",
   "metadata": {},
   "outputs": [
    {
     "name": "stdout",
     "output_type": "stream",
     "text": [
      "Load data from pickle\n",
      "length=10000\n",
      "Model Loaded\n"
     ]
    }
   ],
   "source": [
    "DATA_SIZE=10000\n",
    "data_int,int2token,token2int=load_pickle(DATA_SIZE)\n",
    "train, val = train_test_split(data_int,ratio=0.0,random_seed=10)\n",
    "\n",
    "n_feature=16\n",
    "n_hidden=128\n",
    "n_layer=1\n",
    "drop_prob=0.10\n",
    "pad_value=2625\n",
    "input_size=11\n",
    "\n",
    "save_path=\"save_model/latest_32_model.pth\"\n",
    "model=load_model(n_feature,n_hidden,n_layer,drop_prob,save_path)"
   ]
  },
  {
   "cell_type": "markdown",
   "id": "roman-wagon",
   "metadata": {},
   "source": [
    "## Evaluation"
   ]
  },
  {
   "cell_type": "code",
   "execution_count": 5,
   "id": "reverse-struggle",
   "metadata": {},
   "outputs": [
    {
     "name": "stdout",
     "output_type": "stream",
     "text": [
      "accuracy: 0.748\n"
     ]
    }
   ],
   "source": [
    "\n",
    "import random\n",
    "import torch\n",
    "import torch.nn.functional as F\n",
    "device = torch.device(\"cuda:0\" if torch.cuda.is_available() else \"cpu\")\n",
    "\n",
    "eval_data = DiagnosisDataset(train,11,pad_value=2625)\n",
    "\n",
    "random.seed(1)\n",
    "list_rand = random.sample(range(8000),8000)\n",
    "correct = []\n",
    "wrong = []\n",
    "for idx in list_rand:\n",
    "    ip = torch.from_numpy(eval_data[idx][0]).view(1,-1)\n",
    "    gt = eval_data[idx][1]\n",
    "    with torch.no_grad():\n",
    "        y_hat, _ = model(ip.to(device))\n",
    "        y_hat = F.softmax(y_hat,1).cpu()\n",
    "        _, indx = torch.max(y_hat,1)\n",
    "        if indx.item() == gt:\n",
    "            correct.append(gt)\n",
    "        else:\n",
    "            wrong.append({\"true\":gt, \"predicted\":indx.item(),\"index\":idx})\n",
    "total = len(correct) + len(wrong)\n",
    "print(f\"accuracy: {len(correct)/total}\")\n"
   ]
  },
  {
   "cell_type": "markdown",
   "id": "activated-builder",
   "metadata": {},
   "source": [
    "## Test model\n"
   ]
  },
  {
   "cell_type": "code",
   "execution_count": 6,
   "id": "responsible-grade",
   "metadata": {},
   "outputs": [
    {
     "name": "stdin",
     "output_type": "stream",
     "text": [
      "How many Diagnoses code do you have for next code prediction ?\n",
      " 4\n",
      "Enter Diagnoses code 1 =  h93.25\n",
      "Enter Diagnoses code 2 =  o99.285\n",
      "Enter Diagnoses code 3 =  c79.0\n",
      "Enter Diagnoses code 4 =  q21\n"
     ]
    },
    {
     "name": "stdout",
     "output_type": "stream",
     "text": [
      "\n",
      "........Prediction........\n",
      "\n",
      "['H93.25', 'O99.285', 'C79.0', 'Q21'] --> Z13.0\n"
     ]
    }
   ],
   "source": [
    "\n",
    "def predict():\n",
    "    num=int(input(\"How many Diagnoses code do you have for next code prediction ?\\n\"))\n",
    "    x_test=[]\n",
    "    for x in range(num):\n",
    "        x_code=input(f\"Enter Diagnoses code {x+1} = \").strip().upper()\n",
    "        try:\n",
    "            x_test.append(token2int[x_code])\n",
    "        except:\n",
    "            print(\"Embedding not present\")\n",
    "    x=[int2token[x] for x in x_test]\n",
    "    x_test=padding(x_test,input_size,pad_value)\n",
    "    idy=infer(x_test,model)\n",
    "    y=int2token[idy]\n",
    "    print(\"\\n........Prediction........\\n\")\n",
    "    print(f\"{x} --> {y}\")\n",
    "\n",
    "predict()"
   ]
  },
  {
   "cell_type": "code",
   "execution_count": 30,
   "id": "backed-serbia",
   "metadata": {},
   "outputs": [
    {
     "data": {
      "text/plain": [
       "['H93.25', 'O99.285', 'C79.0', 'Q21', 'Z13.0']"
      ]
     },
     "execution_count": 30,
     "metadata": {},
     "output_type": "execute_result"
    }
   ],
   "source": [
    "[int2token[x] for x in train[73]]"
   ]
  },
  {
   "cell_type": "code",
   "execution_count": 63,
   "id": "diverse-mustang",
   "metadata": {},
   "outputs": [],
   "source": [
    "# p=['F32.4', 'Q27.1', 'H05.321', 'M31.30']"
   ]
  }
 ],
 "metadata": {
  "kernelspec": {
   "display_name": "conda_pytorch_p36",
   "language": "python",
   "name": "conda_pytorch_p36"
  },
  "language_info": {
   "codemirror_mode": {
    "name": "ipython",
    "version": 3
   },
   "file_extension": ".py",
   "mimetype": "text/x-python",
   "name": "python",
   "nbconvert_exporter": "python",
   "pygments_lexer": "ipython3",
   "version": "3.6.13"
  }
 },
 "nbformat": 4,
 "nbformat_minor": 5
}
