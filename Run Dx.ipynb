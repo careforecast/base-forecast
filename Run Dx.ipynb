{
 "cells": [
  {
   "cell_type": "markdown",
   "id": "ea498e08",
   "metadata": {},
   "source": [
    "## Install Prerequisite"
   ]
  },
  {
   "cell_type": "code",
   "execution_count": 1,
   "id": "9ce64715",
   "metadata": {},
   "outputs": [
    {
     "name": "stdout",
     "output_type": "stream",
     "text": [
      "cpu\n"
     ]
    }
   ],
   "source": [
    "from utility.preprocessing1 import processing,load_pickle,get_augmentaion,train_test_split\n",
    "from models.model1 import padding,train_model,load_model,infer,DiagnosisDataset"
   ]
  },
  {
   "cell_type": "code",
   "execution_count": 2,
   "id": "35ca9d78",
   "metadata": {},
   "outputs": [],
   "source": [
    "DATA_SIZE=100\n",
    "BASE_PATH=f'data/{DATA_SIZE}'\n",
    "FILE = f\"{BASE_PATH}/AdmissionsDiagnosesCorePopulatedTable.txt\""
   ]
  },
  {
   "cell_type": "markdown",
   "id": "06db16a5",
   "metadata": {},
   "source": [
    "## New Data Pre-Processing"
   ]
  },
  {
   "cell_type": "code",
   "execution_count": 7,
   "id": "d49ef97d",
   "metadata": {},
   "outputs": [],
   "source": [
    "# processing(FILE,DATA_SIZE)"
   ]
  },
  {
   "cell_type": "markdown",
   "id": "d6843b98",
   "metadata": {},
   "source": [
    "## Load Data from Pickle"
   ]
  },
  {
   "cell_type": "code",
   "execution_count": 8,
   "id": "8d3387c0",
   "metadata": {},
   "outputs": [
    {
     "name": "stdout",
     "output_type": "stream",
     "text": [
      "issue in pikle file loading\n"
     ]
    },
    {
     "ename": "TypeError",
     "evalue": "cannot unpack non-iterable NoneType object",
     "output_type": "error",
     "traceback": [
      "\u001b[1;31m---------------------------------------------------------------------------\u001b[0m",
      "\u001b[1;31mTypeError\u001b[0m                                 Traceback (most recent call last)",
      "\u001b[1;32m<ipython-input-8-df2b90b5292d>\u001b[0m in \u001b[0;36m<module>\u001b[1;34m\u001b[0m\n\u001b[1;32m----> 1\u001b[1;33m \u001b[0mdata_int\u001b[0m\u001b[1;33m,\u001b[0m\u001b[0mint2token\u001b[0m\u001b[1;33m,\u001b[0m\u001b[0mtoken2int\u001b[0m\u001b[1;33m=\u001b[0m\u001b[0mload_pickle\u001b[0m\u001b[1;33m(\u001b[0m\u001b[0mDATA_SIZE\u001b[0m\u001b[1;33m)\u001b[0m\u001b[1;33m\u001b[0m\u001b[1;33m\u001b[0m\u001b[0m\n\u001b[0m",
      "\u001b[1;31mTypeError\u001b[0m: cannot unpack non-iterable NoneType object"
     ]
    }
   ],
   "source": [
    "data_int,int2token,token2int=load_pickle(DATA_SIZE)"
   ]
  },
  {
   "cell_type": "markdown",
   "id": "f35ed4ff",
   "metadata": {},
   "source": [
    "## If You Need Augmentaion - for small data sets"
   ]
  },
  {
   "cell_type": "code",
   "execution_count": null,
   "id": "60de020d",
   "metadata": {},
   "outputs": [],
   "source": [
    "data_aug=get_augmentaion(data_int)"
   ]
  },
  {
   "cell_type": "markdown",
   "id": "baa3badb",
   "metadata": {},
   "source": [
    "## Split Data into Train/Test Data Sets"
   ]
  },
  {
   "cell_type": "code",
   "execution_count": null,
   "id": "dedec34d",
   "metadata": {},
   "outputs": [],
   "source": [
    "train, val = train_test_split(data_aug,ratio=0.05,random_seed=10)\n",
    "print(f\"train: {len(train)} ,val: {len(val)}\")"
   ]
  },
  {
   "cell_type": "markdown",
   "id": "bec349ae",
   "metadata": {},
   "source": [
    "# Train model"
   ]
  },
  {
   "cell_type": "code",
   "execution_count": null,
   "id": "d2d33e2d",
   "metadata": {},
   "outputs": [],
   "source": [
    "n_feature=16\n",
    "n_hidden=128 \n",
    "n_layer=1\n",
    "drop_prob=0.10 \n",
    "batch_size=32\n",
    "input_size=11\n",
    "num_epoch = 150\n",
    "pad_value=2625 \n",
    "\n",
    "save_path=f\"save_model/latest-b{batch_size}-e{num_epoch}_model.pth\"\n",
    "\n",
    "train_model(\n",
    "    n_feature=n_feature,\n",
    "    n_hidden=n_hidden,\n",
    "    n_layer=n_layer,\n",
    "    drop_prob=drop_prob,\n",
    "    batch_size=batch_size,\n",
    "    input_size=input_size,\n",
    "    num_epoch=num_epoch,\n",
    "    pad_value=pad_value,\n",
    "    train=train,\n",
    "    val=val,\n",
    "    save_path=save_path\n",
    ")"
   ]
  },
  {
   "cell_type": "code",
   "execution_count": null,
   "id": "6a1a56e9",
   "metadata": {},
   "outputs": [],
   "source": []
  },
  {
   "cell_type": "markdown",
   "id": "fa8a6e74",
   "metadata": {},
   "source": [
    "## Load Model "
   ]
  },
  {
   "cell_type": "code",
   "execution_count": null,
   "id": "f9e5f182",
   "metadata": {},
   "outputs": [],
   "source": [
    "DATA_SIZE=10000\n",
    "data_int,int2token,token2int=load_pickle(DATA_SIZE)\n",
    "train, val = train_test_split(data_int,ratio=0.0,random_seed=10)\n",
    "\n",
    "n_feature=16\n",
    "n_hidden=128\n",
    "n_layer=1\n",
    "drop_prob=0.10\n",
    "pad_value=2625\n",
    "input_size=11\n",
    "\n",
    "save_path=\"save_model/latest_32_model.pth\"\n",
    "model=load_model(n_feature,n_hidden,n_layer,drop_prob,save_path)"
   ]
  },
  {
   "cell_type": "markdown",
   "id": "65b27201",
   "metadata": {},
   "source": [
    "## Evaluate for Accuracy"
   ]
  },
  {
   "cell_type": "code",
   "execution_count": null,
   "id": "dc0e34b9",
   "metadata": {},
   "outputs": [],
   "source": [
    "\n",
    "import random\n",
    "import torch\n",
    "import torch.nn.functional as F\n",
    "device = torch.device(\"cuda:0\" if torch.cuda.is_available() else \"cpu\")\n",
    "\n",
    "eval_data = DiagnosisDataset(train,11,pad_value=2625)\n",
    "\n",
    "random.seed(1)\n",
    "list_rand = random.sample(range(8000),8000)\n",
    "correct = []\n",
    "wrong = []\n",
    "for idx in list_rand:\n",
    "    ip = torch.from_numpy(eval_data[idx][0]).view(1,-1)\n",
    "    gt = eval_data[idx][1]\n",
    "    with torch.no_grad():\n",
    "        y_hat, _ = model(ip.to(device))\n",
    "        y_hat = F.softmax(y_hat,1).cpu()\n",
    "        _, indx = torch.max(y_hat,1)\n",
    "        if indx.item() == gt:\n",
    "            correct.append(gt)\n",
    "        else:\n",
    "            wrong.append({\"true\":gt, \"predicted\":indx.item(),\"index\":idx})\n",
    "total = len(correct) + len(wrong)\n",
    "print(f\"accuracy: {len(correct)/total}\")\n"
   ]
  },
  {
   "cell_type": "markdown",
   "id": "d4f1f7f6",
   "metadata": {},
   "source": [
    "## Test on Existing Data\n"
   ]
  },
  {
   "cell_type": "code",
   "execution_count": null,
   "id": "071d6c57",
   "metadata": {},
   "outputs": [],
   "source": [
    "\n",
    "def predict():\n",
    "    num=int(input(\"How many Diagnoses code do you have for next code prediction ?\\n\"))\n",
    "    x_test=[]\n",
    "    for x in range(num):\n",
    "        x_code=input(f\"Enter Diagnoses code {x+1} = \").strip().upper()\n",
    "        try:\n",
    "            x_test.append(token2int[x_code])\n",
    "        except:\n",
    "            print(\"Embedding not present\")\n",
    "    x=[int2token[x] for x in x_test]\n",
    "    x_test=padding(x_test,input_size,pad_value)\n",
    "    idy=infer(x_test,model)\n",
    "    y=int2token[idy]\n",
    "    print(\"\\n........Prediction........\\n\")\n",
    "    print(f\"{x} --> {y}\")\n",
    "\n",
    "predict()"
   ]
  },
  {
   "cell_type": "code",
   "execution_count": null,
   "id": "1c085116",
   "metadata": {},
   "outputs": [],
   "source": [
    "[int2token[x] for x in train[73]]"
   ]
  },
  {
   "cell_type": "code",
   "execution_count": null,
   "id": "36627aa1",
   "metadata": {},
   "outputs": [],
   "source": [
    "# p=['F32.4', 'Q27.1', 'H05.321', 'M31.30']"
   ]
  }
 ],
 "metadata": {
  "kernelspec": {
   "display_name": "Python 3",
   "language": "python",
   "name": "python3"
  },
  "language_info": {
   "codemirror_mode": {
    "name": "ipython",
    "version": 3
   },
   "file_extension": ".py",
   "mimetype": "text/x-python",
   "name": "python",
   "nbconvert_exporter": "python",
   "pygments_lexer": "ipython3",
   "version": "3.8.11"
  }
 },
 "nbformat": 4,
 "nbformat_minor": 5
}
